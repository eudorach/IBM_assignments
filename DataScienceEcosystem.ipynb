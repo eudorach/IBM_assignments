{
 "cells": [
  {
   "cell_type": "markdown",
   "id": "38e527ed-0fa2-409f-805f-c01821f79032",
   "metadata": {},
   "source": [
    "# Data Science Tools and Ecosystem"
   ]
  },
  {
   "cell_type": "markdown",
   "id": "4ac6909c-384c-470b-9f97-d2a6992c33dd",
   "metadata": {},
   "source": [
    "### Author: \n",
    "Rachel Chung"
   ]
  },
  {
   "cell_type": "markdown",
   "id": "4ae803fe-c147-4d65-a11b-025f2a3d708b",
   "metadata": {},
   "source": [
    "In this notebook, Data Science Tools and Ecosystem are summarized."
   ]
  },
  {
   "cell_type": "markdown",
   "id": "2245df00-00ae-4894-816a-fc0022eb9e5b",
   "metadata": {
    "jp-MarkdownHeadingCollapsed": true
   },
   "source": [
    "**Objectives**\n",
    "* List popular langues used in Data Science\n",
    "* List commonly used libraries in Data Science\n",
    "* Arithmetic expressions using Python"
   ]
  },
  {
   "cell_type": "markdown",
   "id": "eac416c6-e8fa-4eb2-84a5-1abf75a87a8c",
   "metadata": {},
   "source": [
    "Some of the popular languages that Data Scientists use are:\n",
    "1. Python\n",
    "2. R\n",
    "3. SQL"
   ]
  },
  {
   "cell_type": "markdown",
   "id": "f87af796-f840-47e7-9946-a8e87d1806db",
   "metadata": {},
   "source": [
    "Some of the libraries commonly used by Data Scientists include:\n",
    "1. Pandas\n",
    "2. Seaborn\n",
    "3. ggplot"
   ]
  },
  {
   "cell_type": "markdown",
   "id": "397baca3-f415-47ce-addb-4843ba2ba62a",
   "metadata": {},
   "source": [
    "|Data Science Tools|\n",
    "|---|\n",
    "|R Studio|\n",
    "|Spyder|\n",
    "|Jupyter Notebook|\n"
   ]
  },
  {
   "cell_type": "markdown",
   "id": "2c45404b-b369-4970-bd15-859aaa22bdea",
   "metadata": {},
   "source": [
    "### Here are a few examples of evaluating arithmetic expressions in Python:"
   ]
  },
  {
   "cell_type": "code",
   "execution_count": 17,
   "id": "c522baaa-9cbd-447c-93c2-fdf88058ebd9",
   "metadata": {},
   "outputs": [
    {
     "data": {
      "text/plain": [
       "17"
      ]
     },
     "execution_count": 17,
     "metadata": {},
     "output_type": "execute_result"
    }
   ],
   "source": [
    "#This is a simple arithmetic expression to multiply then add integers\n",
    "\n",
    "(3*4)+5"
   ]
  },
  {
   "cell_type": "code",
   "execution_count": 25,
   "id": "d0a5bed5-81f0-43c7-80c6-b7e7ccc66f0a",
   "metadata": {},
   "outputs": [
    {
     "name": "stdout",
     "output_type": "stream",
     "text": [
      "3.3333333333333335 hours\n"
     ]
    }
   ],
   "source": [
    "#This will convert minutes into hours\n",
    "min = 200\n",
    "hr = min/60\n",
    "print(str(hr)+\" hours\")"
   ]
  },
  {
   "cell_type": "code",
   "execution_count": null,
   "id": "46d7153c-b8a2-4a31-9dc8-e9af5dc43ac3",
   "metadata": {},
   "outputs": [],
   "source": []
  }
 ],
 "metadata": {
  "kernelspec": {
   "display_name": "Python [conda env:base] *",
   "language": "python",
   "name": "conda-base-py"
  },
  "language_info": {
   "codemirror_mode": {
    "name": "ipython",
    "version": 3
   },
   "file_extension": ".py",
   "mimetype": "text/x-python",
   "name": "python",
   "nbconvert_exporter": "python",
   "pygments_lexer": "ipython3",
   "version": "3.12.7"
  }
 },
 "nbformat": 4,
 "nbformat_minor": 5
}
